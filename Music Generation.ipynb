{
 "cells": [
  {
   "cell_type": "markdown",
   "metadata": {},
   "source": [
    "### Import required libraries"
   ]
  },
  {
   "cell_type": "code",
   "execution_count": 1,
   "metadata": {},
   "outputs": [],
   "source": [
    "import numpy as np\n",
    "import pickle \n",
    "from pathlib import Path\n",
    "from music21 import note , chord , stream , instrument , converter"
   ]
  },
  {
   "cell_type": "markdown",
   "metadata": {},
   "source": [
    "### Read a Midi File"
   ]
  },
  {
   "cell_type": "code",
   "execution_count": 2,
   "metadata": {
    "scrolled": true
   },
   "outputs": [
    {
     "data": {
      "text/plain": [
       "<music21.stream.Score 0x1f179e71b88>"
      ]
     },
     "execution_count": 2,
     "metadata": {},
     "output_type": "execute_result"
    }
   ],
   "source": [
    "# parse the encoded data in a file object to midi stream\n",
    "midi = converter.parse('midi_songs/rufus.mid')\n",
    "midi"
   ]
  },
  {
   "cell_type": "code",
   "execution_count": 3,
   "metadata": {},
   "outputs": [
    {
     "data": {
      "text/html": [
       "\n",
       "                <div id='midiPlayerDiv8709'></div>\n",
       "                <link rel=\"stylesheet\" href=\"//cuthbertLab.github.io/music21j/css/m21.css\"\n",
       "                    type=\"text/css\" />\n",
       "                <script>\n",
       "                require.config({\n",
       "                    paths: {'music21': '//cuthbertLab.github.io/music21j/src/music21'}\n",
       "                });\n",
       "                require(['music21'], function() {\n",
       "                               mp = new music21.miditools.MidiPlayer();\n",
       "                               mp.addPlayer('#midiPlayerDiv8709');\n",
       "                               mp.base64Load('data:audio/midi;base64,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');\n",
       "                        });\n",
       "                </script>"
      ],
      "text/plain": [
       "<IPython.core.display.HTML object>"
      ]
     },
     "metadata": {},
     "output_type": "display_data"
    }
   ],
   "source": [
    "midi.show('midi')"
   ]
  },
  {
   "cell_type": "code",
   "execution_count": 4,
   "metadata": {},
   "outputs": [
    {
     "name": "stdout",
     "output_type": "stream",
     "text": [
      "{0.0} <music21.stream.Part 0x1f179e73848>\n",
      "    {0.0} <music21.instrument.Piano 'Right Hand: Piano'>\n",
      "    {0.0} <music21.tempo.MetronomeMark Quarter=124.0>\n",
      "    {0.0} <music21.key.Key of A major>\n",
      "    {0.0} <music21.meter.TimeSignature 4/4>\n",
      "    {0.0} <music21.note.Note E>\n",
      "    {1.3333} <music21.note.Rest rest>\n",
      "    {1.5} <music21.note.Note E>\n",
      "    {1.75} <music21.note.Note E>\n",
      "    {2.0} <music21.note.Note E>\n",
      "    {2.5} <music21.note.Note F>\n",
      "    {3.0} <music21.note.Note E>\n",
      "    {3.5} <music21.note.Note G>\n",
      "    {4.0} <music21.note.Note G#>\n",
      "    {4.75} <music21.note.Rest rest>\n",
      "    {5.0} <music21.note.Note E>\n",
      "    {5.75} <music21.note.Rest rest>\n",
      "    {8.0} <music21.note.Note G#>\n",
      "    {9.3333} <music21.note.Rest rest>\n",
      "    {9.5} <music21.note.Note G#>\n",
      "    {9.75} <music21.note.Note G#>\n",
      "    {10.0} <music21.note.Note G#>\n",
      "    {10.5} <music21.note.Note A>\n",
      "    {11.0} <music21.note.Note B>\n",
      "    {11.5} <music21.note.Note C#>\n",
      "    {12.0} <music21.note.Note D>\n",
      "    {12.75} <music21.note.Rest rest>\n",
      "    {13.0} <music21.note.Note B>\n",
      "    {13.75} <music21.note.Rest rest>\n",
      "    {15.0} <music21.note.Note E>\n",
      "    {15.3333} <music21.note.Note G#>\n",
      "    {15.6667} <music21.note.Note B>\n",
      "    {16.0} <music21.chord.Chord E4 D5>\n",
      "    {16.75} <music21.note.Rest rest>\n",
      "    {17.0} <music21.chord.Chord F4 D5>\n",
      "    {17.75} <music21.note.Note C#>\n",
      "    {18.0} <music21.chord.Chord F#4 D5>\n",
      "    {18.5} <music21.chord.Chord F#4 B4>\n",
      "    {19.0} <music21.note.Rest rest>\n",
      "    {20.0} <music21.chord.Chord G4 D5>\n",
      "    {20.75} <music21.note.Rest rest>\n",
      "    {21.0} <music21.chord.Chord F4 D5>\n",
      "    {21.75} <music21.note.Note C#>\n",
      "    {22.0} <music21.chord.Chord E4 D5>\n",
      "    {22.5} <music21.chord.Chord E4 B4>\n",
      "    {23.0} <music21.note.Rest rest>\n",
      "    {24.0} <music21.chord.Chord G#4 B4 E5>\n",
      "    {25.3333} <music21.note.Rest rest>\n",
      "    {25.5} <music21.chord.Chord G#4 B4 E5>\n",
      "    {25.75} <music21.chord.Chord G#4 B4 E5>\n",
      "    {26.0} <music21.chord.Chord A4 C5 E5>\n",
      "    {27.3333} <music21.note.Rest rest>\n",
      "    {27.5} <music21.chord.Chord A4 C5 E5>\n",
      "    {27.75} <music21.chord.Chord A4 C5 E5>\n",
      "    {28.0} <music21.chord.Chord G#4 B4 E5>\n",
      "    {30.75} <music21.note.Rest rest>\n",
      "    {31.0} <music21.note.Note E>\n",
      "    {31.75} <music21.note.Note D>\n",
      "    {32.0} <music21.note.Note C#>\n",
      "    {32.75} <music21.note.Rest rest>\n",
      "    {33.0} <music21.note.Note C#>\n",
      "    {33.75} <music21.note.Note B>\n",
      "    {34.0} <music21.note.Note C#>\n",
      "    {34.5} <music21.note.Note D>\n",
      "    {35.0} <music21.note.Note C#>\n",
      "    {35.5} <music21.note.Note B>\n",
      "    {36.0} <music21.note.Note A>\n",
      "    {37.75} <music21.note.Rest rest>\n",
      "    {38.5} <music21.note.Note A>\n",
      "    {39.0} <music21.note.Note C#>\n",
      "    {39.5} <music21.note.Note E>\n",
      "    {40.0} <music21.note.Note F#>\n",
      "    {40.75} <music21.note.Rest rest>\n",
      "    {41.0} <music21.note.Note D>\n",
      "    {41.75} <music21.note.Note C#>\n",
      "    {42.0} <music21.note.Note B>\n",
      "    {42.75} <music21.note.Rest rest>\n",
      "    {43.0} <music21.note.Note F#>\n",
      "    {43.75} <music21.note.Rest rest>\n",
      "    {44.0} <music21.note.Note E>\n",
      "    {45.75} <music21.note.Rest rest>\n",
      "    {46.5} <music21.note.Note A>\n",
      "    {47.0} <music21.note.Note C#>\n",
      "    {47.5} <music21.note.Note E>\n",
      "    {48.0} <music21.note.Note F#>\n",
      "    {48.75} <music21.note.Rest rest>\n",
      "    {49.0} <music21.note.Note D>\n",
      "    {49.75} <music21.note.Note C#>\n",
      "    {50.0} <music21.note.Note B>\n",
      "    {50.75} <music21.note.Rest rest>\n",
      "    {51.0} <music21.note.Note G#>\n",
      "    {51.75} <music21.note.Rest rest>\n",
      "    {52.0} <music21.note.Note E>\n",
      "    {53.75} <music21.note.Rest rest>\n",
      "    {54.0} <music21.note.Note C#>\n",
      "    {54.75} <music21.note.Rest rest>\n",
      "    {55.0} <music21.note.Note E>\n",
      "    {55.5} <music21.note.Note A>\n",
      "    {56.0} <music21.note.Note G#>\n",
      "    {56.75} <music21.note.Rest rest>\n",
      "    {57.0} <music21.note.Note G#>\n",
      "    {57.75} <music21.note.Note F#>\n",
      "    {58.0} <music21.note.Note G#>\n",
      "    {58.5} <music21.note.Note A>\n",
      "    {59.0} <music21.note.Note G#>\n",
      "    {59.5} <music21.note.Note F#>\n",
      "    {60.0} <music21.note.Note E>\n",
      "    {62.75} <music21.note.Rest rest>\n",
      "    {63.0} <music21.note.Note E>\n",
      "    {63.75} <music21.note.Note D>\n",
      "    {64.0} <music21.note.Note C#>\n",
      "    {64.75} <music21.note.Rest rest>\n",
      "    {65.0} <music21.note.Note C#>\n",
      "    {65.75} <music21.note.Note B>\n",
      "    {66.0} <music21.note.Note C#>\n",
      "    {66.5} <music21.note.Note D>\n",
      "    {67.0} <music21.note.Note C#>\n",
      "    {67.5} <music21.note.Note B>\n",
      "    {68.0} <music21.note.Note A>\n",
      "    {69.75} <music21.note.Rest rest>\n",
      "    {70.5} <music21.note.Note A>\n",
      "    {71.0} <music21.note.Note C#>\n",
      "    {71.5} <music21.note.Note E>\n",
      "    {72.0} <music21.note.Note F#>\n",
      "    {72.75} <music21.note.Rest rest>\n",
      "    {73.0} <music21.note.Note D>\n",
      "    {73.75} <music21.note.Note C#>\n",
      "    {74.0} <music21.note.Note B>\n",
      "    {74.75} <music21.note.Rest rest>\n",
      "    {75.0} <music21.note.Note F#>\n",
      "    {75.75} <music21.note.Rest rest>\n",
      "    {76.0} <music21.note.Note E>\n",
      "    {77.75} <music21.note.Rest rest>\n",
      "    {78.5} <music21.note.Note A>\n",
      "    {79.0} <music21.note.Note C#>\n",
      "    {79.5} <music21.note.Note E>\n",
      "    {80.0} <music21.note.Note F#>\n",
      "    {80.75} <music21.note.Rest rest>\n",
      "    {81.0} <music21.note.Note D>\n",
      "    {81.75} <music21.note.Note C#>\n",
      "    {82.0} <music21.note.Note B>\n",
      "    {82.75} <music21.note.Rest rest>\n",
      "    {83.0} <music21.note.Note G#>\n",
      "    {83.75} <music21.note.Rest rest>\n",
      "    {84.0} <music21.note.Note E>\n",
      "    {85.75} <music21.note.Rest rest>\n",
      "    {86.0} <music21.note.Note C#>\n",
      "    {86.5} <music21.note.Note A>\n",
      "    {87.0} <music21.note.Note B>\n",
      "    {87.5} <music21.note.Note C#>\n",
      "    {88.0} <music21.note.Note D>\n",
      "    {88.5} <music21.note.Note B>\n",
      "    {89.25} <music21.note.Rest rest>\n",
      "    {89.5} <music21.note.Note D>\n",
      "    {90.0} <music21.note.Note C#>\n",
      "    {90.5} <music21.note.Note A>\n",
      "    {91.25} <music21.note.Rest rest>\n",
      "    {91.5} <music21.note.Note C#>\n",
      "    {92.0} <music21.note.Note B>\n",
      "    {93.75} <music21.note.Rest rest>\n",
      "    {94.0} <music21.note.Note A>\n",
      "    {94.75} <music21.note.Rest rest>\n",
      "    {104.0} <music21.chord.Chord F#4 A4>\n",
      "    {104.75} <music21.note.Rest rest>\n",
      "    {105.0} <music21.note.Note A>\n",
      "    {105.75} <music21.note.Note A>\n",
      "    {106.0} <music21.note.Note A>\n",
      "    {106.5} <music21.note.Note G#>\n",
      "    {107.0} <music21.note.Note F#>\n",
      "    {107.5} <music21.note.Note G#>\n",
      "    {108.0} <music21.note.Note F>\n",
      "    {108.75} <music21.note.Rest rest>\n",
      "    {109.0} <music21.note.Note C#>\n",
      "    {109.75} <music21.note.Rest rest>\n",
      "    {112.0} <music21.note.Note C#>\n",
      "    {112.75} <music21.note.Rest rest>\n",
      "    {113.0} <music21.note.Note C#>\n",
      "    {113.75} <music21.note.Note C#>\n",
      "    {114.0} <music21.note.Note C#>\n",
      "    {114.5} <music21.note.Note B>\n",
      "    {115.0} <music21.note.Note A>\n",
      "    {115.5} <music21.note.Note C#>\n",
      "    {116.0} <music21.note.Note B>\n",
      "    {116.75} <music21.note.Rest rest>\n",
      "    {117.0} <music21.note.Note G#>\n",
      "    {117.75} <music21.note.Rest rest>\n",
      "    {119.0} <music21.note.Note E>\n",
      "    {119.3333} <music21.note.Note G#>\n",
      "    {119.6667} <music21.note.Note B>\n",
      "    {120.0} <music21.chord.Chord G#4 D5>\n",
      "    {120.75} <music21.note.Rest rest>\n",
      "    {121.0} <music21.chord.Chord A4 D5>\n",
      "    {121.75} <music21.note.Note C#>\n",
      "    {122.0} <music21.chord.Chord B4 D5>\n",
      "    {122.5} <music21.note.Note B>\n",
      "    {123.0} <music21.note.Rest rest>\n",
      "    {124.0} <music21.chord.Chord B4 D5>\n",
      "    {124.75} <music21.note.Rest rest>\n",
      "    {125.0} <music21.chord.Chord A4 D5>\n",
      "    {125.75} <music21.note.Note C#>\n",
      "    {126.0} <music21.chord.Chord G#4 D5>\n",
      "    {126.5} <music21.note.Note B>\n",
      "    {127.0} <music21.note.Rest rest>\n",
      "    {128.0} <music21.chord.Chord G#4 B4 E5>\n",
      "    {129.3333} <music21.note.Rest rest>\n",
      "    {129.5} <music21.chord.Chord G#4 B4 E5>\n",
      "    {129.75} <music21.chord.Chord G#4 B4 E5>\n",
      "    {130.0} <music21.chord.Chord A4 C5 E5>\n",
      "    {131.3333} <music21.note.Rest rest>\n",
      "    {131.5} <music21.chord.Chord A4 C5 E5>\n",
      "    {131.75} <music21.chord.Chord A4 C5 E5>\n",
      "    {132.0} <music21.chord.Chord G#4 B4 E5>\n",
      "    {134.75} <music21.note.Rest rest>\n",
      "    {135.0} <music21.note.Note E>\n",
      "    {135.75} <music21.note.Note D>\n",
      "    {136.0} <music21.note.Note C#>\n",
      "    {136.75} <music21.note.Rest rest>\n",
      "    {137.0} <music21.note.Note C#>\n",
      "    {137.75} <music21.note.Note B>\n",
      "    {138.0} <music21.note.Note C#>\n",
      "    {138.5} <music21.note.Note D>\n",
      "    {139.0} <music21.note.Note C#>\n",
      "    {139.5} <music21.note.Note B>\n",
      "    {140.0} <music21.note.Note A>\n",
      "    {141.75} <music21.note.Rest rest>\n",
      "    {142.5} <music21.note.Note A>\n",
      "    {143.0} <music21.note.Note C#>\n",
      "    {143.5} <music21.note.Note E>\n",
      "    {144.0} <music21.note.Note F#>\n",
      "    {144.75} <music21.note.Rest rest>\n",
      "    {145.0} <music21.note.Note D>\n",
      "    {145.75} <music21.note.Note C#>\n",
      "    {146.0} <music21.note.Note B>\n",
      "    {146.75} <music21.note.Rest rest>\n",
      "    {147.0} <music21.note.Note F#>\n",
      "    {147.75} <music21.note.Rest rest>\n",
      "    {148.0} <music21.note.Note E>\n",
      "    {149.75} <music21.note.Rest rest>\n",
      "    {150.5} <music21.note.Note A>\n",
      "    {151.0} <music21.note.Note C#>\n",
      "    {151.5} <music21.note.Note E>\n",
      "    {152.0} <music21.note.Note F#>\n",
      "    {152.75} <music21.note.Rest rest>\n",
      "    {153.0} <music21.note.Note D>\n",
      "    {153.75} <music21.note.Note C#>\n",
      "    {154.0} <music21.note.Note B>\n",
      "    {154.75} <music21.note.Rest rest>\n",
      "    {155.0} <music21.note.Note G#>\n",
      "    {155.75} <music21.note.Rest rest>\n",
      "    {156.0} <music21.note.Note E>\n",
      "    {157.75} <music21.note.Rest rest>\n",
      "    {158.0} <music21.note.Note C#>\n",
      "    {158.75} <music21.note.Rest rest>\n",
      "    {159.0} <music21.note.Note E>\n",
      "    {159.5} <music21.note.Note A>\n",
      "    {160.0} <music21.note.Note G#>\n",
      "    {160.75} <music21.note.Rest rest>\n",
      "    {161.0} <music21.note.Note G#>\n",
      "    {161.75} <music21.note.Note F#>\n",
      "    {162.0} <music21.note.Note G#>\n",
      "    {162.5} <music21.note.Note A>\n",
      "    {163.0} <music21.note.Note G#>\n",
      "    {163.5} <music21.note.Note F#>\n",
      "    {164.0} <music21.note.Note E>\n",
      "    {166.75} <music21.note.Rest rest>\n",
      "    {167.0} <music21.note.Note E>\n",
      "    {167.75} <music21.note.Note D>\n",
      "    {168.0} <music21.note.Note C#>\n",
      "    {168.75} <music21.note.Rest rest>\n",
      "    {169.0} <music21.note.Note C#>\n",
      "    {169.75} <music21.note.Note B>\n",
      "    {170.0} <music21.note.Note C#>\n",
      "    {170.5} <music21.note.Note D>\n",
      "    {171.0} <music21.note.Note C#>\n",
      "    {171.5} <music21.note.Note B>\n",
      "    {172.0} <music21.note.Note A>\n",
      "    {173.75} <music21.note.Rest rest>\n",
      "    {174.5} <music21.note.Note A>\n",
      "    {175.0} <music21.note.Note C#>\n",
      "    {175.5} <music21.note.Note E>\n",
      "    {176.0} <music21.note.Note F#>\n",
      "    {176.75} <music21.note.Rest rest>\n",
      "    {177.0} <music21.note.Note D>\n",
      "    {177.75} <music21.note.Note C#>\n",
      "    {178.0} <music21.note.Note B>\n",
      "    {178.75} <music21.note.Rest rest>\n",
      "    {179.0} <music21.note.Note F#>\n",
      "    {179.75} <music21.note.Rest rest>\n",
      "    {180.0} <music21.note.Note E>\n",
      "    {181.75} <music21.note.Rest rest>\n",
      "    {182.5} <music21.note.Note A>\n",
      "    {183.0} <music21.note.Note C#>\n",
      "    {183.5} <music21.note.Note E>\n",
      "    {184.0} <music21.note.Note F#>\n",
      "    {184.75} <music21.note.Rest rest>\n",
      "    {185.0} <music21.note.Note D>\n",
      "    {185.75} <music21.note.Note C#>\n",
      "    {186.0} <music21.note.Note B>\n",
      "    {186.75} <music21.note.Rest rest>\n",
      "    {187.0} <music21.note.Note G#>\n",
      "    {187.75} <music21.note.Rest rest>\n",
      "    {188.0} <music21.note.Note E>\n",
      "    {189.75} <music21.note.Rest rest>\n",
      "    {190.0} <music21.note.Note C#>\n",
      "    {190.5} <music21.note.Note A>\n",
      "    {191.0} <music21.note.Note B>\n",
      "    {191.5} <music21.note.Note C#>\n",
      "    {192.0} <music21.note.Note D>\n",
      "    {192.5} <music21.note.Note B>\n",
      "    {193.25} <music21.note.Rest rest>\n",
      "    {193.5} <music21.note.Note D>\n",
      "    {194.0} <music21.note.Note C#>\n",
      "    {194.5} <music21.note.Note A>\n",
      "    {195.25} <music21.note.Rest rest>\n",
      "    {195.5} <music21.note.Note C#>\n",
      "    {196.0} <music21.note.Note B>\n",
      "    {197.75} <music21.note.Rest rest>\n",
      "    {198.0} <music21.note.Note A>\n",
      "    {198.75} <music21.note.Rest rest>\n",
      "    {208.0} <music21.chord.Chord F#4 A4>\n",
      "    {208.75} <music21.note.Rest rest>\n",
      "    {209.0} <music21.note.Note A>\n",
      "    {209.75} <music21.note.Note A>\n",
      "    {210.0} <music21.note.Note A>\n",
      "    {210.5} <music21.note.Note G#>\n",
      "    {211.0} <music21.note.Note F#>\n",
      "    {211.5} <music21.note.Note G#>\n",
      "    {212.0} <music21.note.Note F>\n",
      "    {212.75} <music21.note.Rest rest>\n",
      "    {213.0} <music21.note.Note C#>\n",
      "    {213.75} <music21.note.Rest rest>\n",
      "    {216.0} <music21.note.Note C#>\n",
      "    {216.75} <music21.note.Rest rest>\n",
      "    {217.0} <music21.note.Note C#>\n",
      "    {217.75} <music21.note.Note C#>\n",
      "    {218.0} <music21.note.Note C#>\n",
      "    {218.5} <music21.note.Note B>\n",
      "    {219.0} <music21.note.Note A>\n",
      "    {219.5} <music21.note.Note C#>\n",
      "    {220.0} <music21.note.Note B>\n",
      "    {220.75} <music21.note.Rest rest>\n",
      "    {221.0} <music21.note.Note G#>\n",
      "    {221.75} <music21.note.Rest rest>\n",
      "    {223.0} <music21.note.Note E>\n",
      "    {223.3333} <music21.note.Note G#>\n",
      "    {223.6667} <music21.note.Note B>\n",
      "    {224.0} <music21.chord.Chord G#4 D5>\n",
      "    {224.75} <music21.note.Rest rest>\n",
      "    {225.0} <music21.chord.Chord A4 D5>\n",
      "    {225.75} <music21.note.Note C#>\n",
      "    {226.0} <music21.chord.Chord B4 D5>\n",
      "    {226.5} <music21.note.Note B>\n",
      "    {227.0} <music21.note.Rest rest>\n",
      "    {228.0} <music21.chord.Chord B4 D5>\n",
      "    {228.75} <music21.note.Rest rest>\n",
      "    {229.0} <music21.chord.Chord A4 D5>\n",
      "    {229.75} <music21.note.Note C#>\n",
      "    {230.0} <music21.chord.Chord G#4 D5>\n",
      "    {230.5} <music21.note.Note B>\n",
      "    {231.0} <music21.note.Rest rest>\n",
      "    {232.0} <music21.chord.Chord G#4 B4 E5>\n",
      "    {233.3333} <music21.note.Rest rest>\n",
      "    {233.5} <music21.chord.Chord G#4 B4 E5>\n",
      "    {233.75} <music21.chord.Chord G#4 B4 E5>\n",
      "    {234.0} <music21.chord.Chord A4 C5 E5>\n",
      "    {235.3333} <music21.note.Rest rest>\n",
      "    {235.5} <music21.chord.Chord A4 C5 E5>\n",
      "    {235.75} <music21.chord.Chord A4 C5 E5>\n",
      "    {236.0} <music21.chord.Chord G#4 B4 E5>\n",
      "    {238.75} <music21.note.Rest rest>\n",
      "    {239.0} <music21.note.Note E>\n",
      "    {239.75} <music21.note.Note D>\n",
      "{0.0} <music21.stream.Part 0x1f17a057b08>\n",
      "    {0.0} <music21.instrument.Piano 'Left Hand: Piano'>\n",
      "    {0.0} <music21.tempo.MetronomeMark Quarter=124.0>\n",
      "    {0.0} <music21.key.Key of A major>\n",
      "    {0.0} <music21.meter.TimeSignature 4/4>\n",
      "    {0.0} <music21.note.Note E>\n",
      "    {1.75} <music21.note.Rest rest>\n",
      "    {2.0} <music21.note.Note E>\n",
      "    {2.5} <music21.note.Note E->\n",
      "    {3.0} <music21.note.Note D>\n",
      "    {3.5} <music21.note.Note C#>\n",
      "    {4.0} <music21.note.Note B>\n",
      "    {4.75} <music21.note.Rest rest>\n",
      "    {5.0} <music21.note.Note G#>\n",
      "    {5.75} <music21.note.Rest rest>\n",
      "    {6.0} <music21.note.Note E>\n",
      "    {6.75} <music21.note.Rest rest>\n",
      "    {7.0} <music21.note.Note E>\n",
      "    {7.75} <music21.note.Rest rest>\n",
      "    {8.0} <music21.note.Note E>\n",
      "    {9.75} <music21.note.Rest rest>\n",
      "    {10.0} <music21.note.Note G#>\n",
      "    {10.5} <music21.note.Note G>\n",
      "    {11.0} <music21.note.Note F#>\n",
      "    {11.5} <music21.note.Note E>\n",
      "    {12.0} <music21.note.Note D>\n",
      "    {12.75} <music21.note.Rest rest>\n",
      "    {13.0} <music21.note.Note B>\n",
      "    {13.75} <music21.note.Rest rest>\n",
      "    {14.0} <music21.note.Note E>\n",
      "    {14.75} <music21.note.Rest rest>\n",
      "    {15.0} <music21.note.Note E>\n",
      "    {15.75} <music21.note.Rest rest>\n",
      "    {16.0} <music21.note.Note G#>\n",
      "    {16.75} <music21.note.Rest rest>\n",
      "    {17.0} <music21.note.Note A>\n",
      "    {17.75} <music21.note.Rest rest>\n",
      "    {18.0} <music21.note.Note B>\n",
      "    {18.5} <music21.note.Note B>\n",
      "    {19.0} <music21.note.Rest rest>\n",
      "    {20.0} <music21.note.Note B>\n",
      "    {20.75} <music21.note.Rest rest>\n",
      "    {21.0} <music21.note.Note A>\n",
      "    {21.75} <music21.note.Rest rest>\n",
      "    {22.0} <music21.note.Note G#>\n",
      "    {22.5} <music21.note.Note G#>\n",
      "    {23.0} <music21.note.Rest rest>\n",
      "    {24.0} <music21.note.Note E>\n",
      "    {25.75} <music21.note.Rest rest>\n",
      "    {26.0} <music21.note.Note A>\n",
      "    {27.75} <music21.note.Rest rest>\n",
      "    {28.0} <music21.note.Note E>\n",
      "    {30.75} <music21.note.Rest rest>\n",
      "    {32.0} <music21.note.Note A>\n",
      "    {32.75} <music21.note.Rest rest>\n",
      "    {33.0} <music21.note.Note E>\n",
      "    {33.75} <music21.note.Rest rest>\n",
      "    {34.0} <music21.note.Note E>\n",
      "    {34.75} <music21.note.Rest rest>\n",
      "    {35.0} <music21.note.Note B>\n",
      "    {35.75} <music21.note.Rest rest>\n",
      "    {36.0} <music21.note.Note A>\n",
      "    {36.75} <music21.note.Rest rest>\n",
      "    {37.0} <music21.note.Note E>\n",
      "    {37.75} <music21.note.Rest rest>\n",
      "    {38.0} <music21.note.Note A>\n",
      "    {38.75} <music21.note.Rest rest>\n",
      "    {39.0} <music21.note.Note E>\n",
      "    {39.75} <music21.note.Rest rest>\n",
      "    {40.0} <music21.note.Note D>\n",
      "    {40.75} <music21.note.Rest rest>\n",
      "    {41.0} <music21.note.Note A>\n",
      "    {41.75} <music21.note.Rest rest>\n",
      "    {42.0} <music21.note.Note E>\n",
      "    {42.75} <music21.note.Rest rest>\n",
      "    {43.0} <music21.note.Note B>\n",
      "    {43.75} <music21.note.Rest rest>\n",
      "    {44.0} <music21.note.Note A>\n",
      "    {44.75} <music21.note.Rest rest>\n",
      "    {45.0} <music21.note.Note E>\n",
      "    {45.75} <music21.note.Rest rest>\n",
      "    {46.0} <music21.note.Note A>\n",
      "    {46.75} <music21.note.Rest rest>\n",
      "    {47.0} <music21.note.Note E>\n",
      "    {47.75} <music21.note.Rest rest>\n",
      "    {48.0} <music21.note.Note D>\n",
      "    {48.75} <music21.note.Rest rest>\n",
      "    {49.0} <music21.note.Note A>\n",
      "    {49.75} <music21.note.Rest rest>\n",
      "    {50.0} <music21.note.Note E>\n",
      "    {50.75} <music21.note.Rest rest>\n",
      "    {51.0} <music21.note.Note B>\n",
      "    {51.75} <music21.note.Rest rest>\n",
      "    {52.0} <music21.note.Note A>\n",
      "    {52.75} <music21.note.Rest rest>\n",
      "    {53.0} <music21.note.Note E>\n",
      "    {53.75} <music21.note.Rest rest>\n",
      "    {54.0} <music21.note.Note F#>\n",
      "    {54.75} <music21.note.Rest rest>\n",
      "    {55.0} <music21.note.Note E>\n",
      "    {55.75} <music21.note.Rest rest>\n",
      "    {56.0} <music21.note.Note C#>\n",
      "    {56.75} <music21.note.Rest rest>\n",
      "    {57.0} <music21.note.Note G#>\n",
      "    {57.75} <music21.note.Rest rest>\n",
      "    {58.0} <music21.note.Note E->\n",
      "    {58.75} <music21.note.Rest rest>\n",
      "    {59.0} <music21.note.Note G#>\n",
      "    {59.75} <music21.note.Rest rest>\n",
      "    {60.0} <music21.note.Note C#>\n",
      "    {60.75} <music21.note.Rest rest>\n",
      "    {61.0} <music21.note.Note G#>\n",
      "    {61.75} <music21.note.Rest rest>\n",
      "    {62.0} <music21.note.Note E>\n",
      "    {62.75} <music21.note.Rest rest>\n",
      "    {63.0} <music21.note.Note B>\n",
      "    {63.75} <music21.note.Rest rest>\n",
      "    {64.0} <music21.note.Note A>\n",
      "    {64.75} <music21.note.Rest rest>\n",
      "    {65.0} <music21.note.Note E>\n",
      "    {65.75} <music21.note.Rest rest>\n",
      "    {66.0} <music21.note.Note E>\n",
      "    {66.75} <music21.note.Rest rest>\n",
      "    {67.0} <music21.note.Note B>\n",
      "    {67.75} <music21.note.Rest rest>\n",
      "    {68.0} <music21.note.Note A>\n",
      "    {68.75} <music21.note.Rest rest>\n",
      "    {69.0} <music21.note.Note E>\n",
      "    {69.75} <music21.note.Rest rest>\n",
      "    {70.0} <music21.note.Note A>\n",
      "    {70.75} <music21.note.Rest rest>\n",
      "    {71.0} <music21.note.Note E>\n",
      "    {71.75} <music21.note.Rest rest>\n",
      "    {72.0} <music21.note.Note D>\n",
      "    {72.75} <music21.note.Rest rest>\n",
      "    {73.0} <music21.note.Note A>\n",
      "    {73.75} <music21.note.Rest rest>\n",
      "    {74.0} <music21.note.Note E>\n",
      "    {74.75} <music21.note.Rest rest>\n",
      "    {75.0} <music21.note.Note B>\n",
      "    {75.75} <music21.note.Rest rest>\n",
      "    {76.0} <music21.note.Note A>\n",
      "    {76.75} <music21.note.Rest rest>\n",
      "    {77.0} <music21.note.Note E>\n",
      "    {77.75} <music21.note.Rest rest>\n",
      "    {78.0} <music21.note.Note A>\n",
      "    {78.75} <music21.note.Rest rest>\n",
      "    {79.0} <music21.note.Note E>\n",
      "    {79.75} <music21.note.Rest rest>\n",
      "    {80.0} <music21.note.Note D>\n",
      "    {80.75} <music21.note.Rest rest>\n",
      "    {81.0} <music21.note.Note A>\n",
      "    {81.75} <music21.note.Rest rest>\n",
      "    {82.0} <music21.note.Note E>\n",
      "    {82.75} <music21.note.Rest rest>\n",
      "    {83.0} <music21.note.Note B>\n",
      "    {83.75} <music21.note.Rest rest>\n",
      "    {84.0} <music21.note.Note A>\n",
      "    {84.75} <music21.note.Rest rest>\n",
      "    {85.0} <music21.note.Note E>\n",
      "    {85.75} <music21.note.Rest rest>\n",
      "    {86.0} <music21.note.Note F#>\n",
      "    {86.75} <music21.note.Rest rest>\n",
      "    {87.0} <music21.note.Note C#>\n",
      "    {87.75} <music21.note.Rest rest>\n",
      "    {88.0} <music21.note.Note B>\n",
      "    {88.75} <music21.note.Rest rest>\n",
      "    {89.0} <music21.note.Note F#>\n",
      "    {89.75} <music21.note.Rest rest>\n",
      "    {90.0} <music21.note.Note A>\n",
      "    {90.75} <music21.note.Rest rest>\n",
      "    {91.0} <music21.note.Note E>\n",
      "    {91.75} <music21.note.Rest rest>\n",
      "    {92.0} <music21.note.Note E>\n",
      "    {93.75} <music21.note.Rest rest>\n",
      "    {94.0} <music21.note.Note A>\n",
      "    {94.75} <music21.note.Rest rest>\n",
      "    {96.0} <music21.note.Note A>\n",
      "    {96.5} <music21.note.Note A>\n",
      "    {97.0} <music21.note.Rest rest>\n",
      "    {98.0} <music21.note.Note A>\n",
      "    {98.5} <music21.note.Note A>\n",
      "    {99.0} <music21.note.Rest rest>\n",
      "    {100.0} <music21.note.Note A>\n",
      "    {101.75} <music21.note.Rest rest>\n",
      "    {102.0} <music21.note.Note A>\n",
      "    {102.5} <music21.note.Note A>\n",
      "    {103.0} <music21.note.Rest rest>\n",
      "    {104.0} <music21.note.Note F#>\n",
      "    {104.75} <music21.note.Rest rest>\n",
      "    {105.0} <music21.note.Note F#>\n",
      "    {105.75} <music21.note.Note F>\n",
      "    {106.0} <music21.note.Note F#>\n",
      "    {106.5} <music21.note.Note G#>\n",
      "    {107.0} <music21.note.Note A>\n",
      "    {107.5} <music21.note.Note B>\n",
      "    {108.0} <music21.note.Note C#>\n",
      "    {108.75} <music21.note.Rest rest>\n",
      "    {109.0} <music21.note.Note C#>\n",
      "    {109.75} <music21.note.Note D>\n",
      "    {110.0} <music21.note.Note C#>\n",
      "    {110.5} <music21.note.Note B>\n",
      "    {111.0} <music21.note.Note A>\n",
      "    {111.5} <music21.note.Note G#>\n",
      "    {112.0} <music21.note.Note A>\n",
      "    {112.75} <music21.note.Rest rest>\n",
      "    {113.0} <music21.note.Note E>\n",
      "    {113.75} <music21.note.Rest rest>\n",
      "    {114.0} <music21.note.Note C#>\n",
      "    {114.5} <music21.note.Note E>\n",
      "    {115.0} <music21.note.Note A>\n",
      "    {115.5} <music21.note.Note B>\n",
      "    {116.0} <music21.note.Note G#>\n",
      "    {116.75} <music21.note.Rest rest>\n",
      "    {117.0} <music21.note.Note F#>\n",
      "    {117.75} <music21.note.Rest rest>\n",
      "    {118.0} <music21.note.Note E>\n",
      "    {118.75} <music21.note.Rest rest>\n",
      "    {119.0} <music21.note.Note D>\n",
      "    {119.75} <music21.note.Rest rest>\n",
      "    {120.0} <music21.note.Note E>\n",
      "    {120.75} <music21.note.Rest rest>\n",
      "    {121.0} <music21.note.Note F>\n",
      "    {121.75} <music21.note.Rest rest>\n",
      "    {122.0} <music21.note.Note F#>\n",
      "    {122.75} <music21.note.Rest rest>\n",
      "    {124.0} <music21.note.Note G>\n",
      "    {124.75} <music21.note.Rest rest>\n",
      "    {125.0} <music21.note.Note F>\n",
      "    {125.75} <music21.note.Rest rest>\n",
      "    {126.0} <music21.note.Note E>\n",
      "    {126.75} <music21.note.Rest rest>\n",
      "    {128.0} <music21.note.Note E>\n",
      "    {129.75} <music21.note.Rest rest>\n",
      "    {130.0} <music21.note.Note A>\n",
      "    {131.75} <music21.note.Rest rest>\n",
      "    {132.0} <music21.note.Note E>\n",
      "    {134.75} <music21.note.Rest rest>\n",
      "    {136.0} <music21.note.Note A>\n",
      "    {136.75} <music21.note.Rest rest>\n",
      "    {137.0} <music21.note.Note E>\n",
      "    {137.75} <music21.note.Rest rest>\n",
      "    {138.0} <music21.note.Note E>\n",
      "    {138.75} <music21.note.Rest rest>\n",
      "    {139.0} <music21.note.Note B>\n",
      "    {139.75} <music21.note.Rest rest>\n",
      "    {140.0} <music21.note.Note A>\n",
      "    {140.75} <music21.note.Rest rest>\n",
      "    {141.0} <music21.note.Note E>\n",
      "    {141.75} <music21.note.Rest rest>\n",
      "    {142.0} <music21.note.Note A>\n",
      "    {142.75} <music21.note.Rest rest>\n",
      "    {143.0} <music21.note.Note E>\n",
      "    {143.75} <music21.note.Rest rest>\n",
      "    {144.0} <music21.note.Note D>\n",
      "    {144.75} <music21.note.Rest rest>\n",
      "    {145.0} <music21.note.Note A>\n",
      "    {145.75} <music21.note.Rest rest>\n",
      "    {146.0} <music21.note.Note E>\n",
      "    {146.75} <music21.note.Rest rest>\n",
      "    {147.0} <music21.note.Note B>\n",
      "    {147.75} <music21.note.Rest rest>\n",
      "    {148.0} <music21.note.Note A>\n",
      "    {148.75} <music21.note.Rest rest>\n",
      "    {149.0} <music21.note.Note E>\n",
      "    {149.75} <music21.note.Rest rest>\n",
      "    {150.0} <music21.note.Note A>\n",
      "    {150.75} <music21.note.Rest rest>\n",
      "    {151.0} <music21.note.Note E>\n",
      "    {151.75} <music21.note.Rest rest>\n",
      "    {152.0} <music21.note.Note D>\n",
      "    {152.75} <music21.note.Rest rest>\n",
      "    {153.0} <music21.note.Note A>\n",
      "    {153.75} <music21.note.Rest rest>\n",
      "    {154.0} <music21.note.Note E>\n",
      "    {154.75} <music21.note.Rest rest>\n",
      "    {155.0} <music21.note.Note B>\n",
      "    {155.75} <music21.note.Rest rest>\n",
      "    {156.0} <music21.note.Note A>\n",
      "    {156.75} <music21.note.Rest rest>\n",
      "    {157.0} <music21.note.Note E>\n",
      "    {157.75} <music21.note.Rest rest>\n",
      "    {158.0} <music21.note.Note F#>\n",
      "    {158.75} <music21.note.Rest rest>\n",
      "    {159.0} <music21.note.Note E>\n",
      "    {159.75} <music21.note.Rest rest>\n",
      "    {160.0} <music21.note.Note C#>\n",
      "    {160.75} <music21.note.Rest rest>\n",
      "    {161.0} <music21.note.Note G#>\n",
      "    {161.75} <music21.note.Rest rest>\n",
      "    {162.0} <music21.note.Note E->\n",
      "    {162.75} <music21.note.Rest rest>\n",
      "    {163.0} <music21.note.Note G#>\n",
      "    {163.75} <music21.note.Rest rest>\n",
      "    {164.0} <music21.note.Note C#>\n",
      "    {164.75} <music21.note.Rest rest>\n",
      "    {165.0} <music21.note.Note G#>\n",
      "    {165.75} <music21.note.Rest rest>\n",
      "    {166.0} <music21.note.Note E>\n",
      "    {166.75} <music21.note.Rest rest>\n",
      "    {167.0} <music21.note.Note B>\n",
      "    {167.75} <music21.note.Rest rest>\n",
      "    {168.0} <music21.note.Note A>\n",
      "    {168.75} <music21.note.Rest rest>\n",
      "    {169.0} <music21.note.Note E>\n",
      "    {169.75} <music21.note.Rest rest>\n",
      "    {170.0} <music21.note.Note E>\n",
      "    {170.75} <music21.note.Rest rest>\n",
      "    {171.0} <music21.note.Note B>\n",
      "    {171.75} <music21.note.Rest rest>\n",
      "    {172.0} <music21.note.Note A>\n",
      "    {172.75} <music21.note.Rest rest>\n",
      "    {173.0} <music21.note.Note E>\n",
      "    {173.75} <music21.note.Rest rest>\n",
      "    {174.0} <music21.note.Note A>\n",
      "    {174.75} <music21.note.Rest rest>\n",
      "    {175.0} <music21.note.Note E>\n",
      "    {175.75} <music21.note.Rest rest>\n",
      "    {176.0} <music21.note.Note D>\n",
      "    {176.75} <music21.note.Rest rest>\n",
      "    {177.0} <music21.note.Note A>\n",
      "    {177.75} <music21.note.Rest rest>\n",
      "    {178.0} <music21.note.Note E>\n",
      "    {178.75} <music21.note.Rest rest>\n",
      "    {179.0} <music21.note.Note B>\n",
      "    {179.75} <music21.note.Rest rest>\n",
      "    {180.0} <music21.note.Note A>\n",
      "    {180.75} <music21.note.Rest rest>\n",
      "    {181.0} <music21.note.Note E>\n",
      "    {181.75} <music21.note.Rest rest>\n",
      "    {182.0} <music21.note.Note A>\n",
      "    {182.75} <music21.note.Rest rest>\n",
      "    {183.0} <music21.note.Note E>\n",
      "    {183.75} <music21.note.Rest rest>\n",
      "    {184.0} <music21.note.Note D>\n",
      "    {184.75} <music21.note.Rest rest>\n",
      "    {185.0} <music21.note.Note A>\n",
      "    {185.75} <music21.note.Rest rest>\n",
      "    {186.0} <music21.note.Note E>\n",
      "    {186.75} <music21.note.Rest rest>\n",
      "    {187.0} <music21.note.Note B>\n",
      "    {187.75} <music21.note.Rest rest>\n",
      "    {188.0} <music21.note.Note A>\n",
      "    {188.75} <music21.note.Rest rest>\n",
      "    {189.0} <music21.note.Note E>\n",
      "    {189.75} <music21.note.Rest rest>\n",
      "    {190.0} <music21.note.Note F#>\n",
      "    {190.75} <music21.note.Rest rest>\n",
      "    {191.0} <music21.note.Note C#>\n",
      "    {191.75} <music21.note.Rest rest>\n",
      "    {192.0} <music21.note.Note B>\n",
      "    {192.75} <music21.note.Rest rest>\n",
      "    {193.0} <music21.note.Note F#>\n",
      "    {193.75} <music21.note.Rest rest>\n",
      "    {194.0} <music21.note.Note A>\n",
      "    {194.75} <music21.note.Rest rest>\n",
      "    {195.0} <music21.note.Note E>\n",
      "    {195.75} <music21.note.Rest rest>\n",
      "    {196.0} <music21.note.Note E>\n",
      "    {197.75} <music21.note.Rest rest>\n",
      "    {198.0} <music21.note.Note A>\n",
      "    {198.75} <music21.note.Rest rest>\n",
      "    {200.0} <music21.note.Note A>\n",
      "    {200.5} <music21.note.Note A>\n",
      "    {201.0} <music21.note.Rest rest>\n",
      "    {202.0} <music21.note.Note A>\n",
      "    {202.5} <music21.note.Note A>\n",
      "    {203.0} <music21.note.Rest rest>\n",
      "    {204.0} <music21.note.Note A>\n",
      "    {205.75} <music21.note.Rest rest>\n",
      "    {206.0} <music21.note.Note A>\n",
      "    {206.5} <music21.note.Note A>\n",
      "    {207.0} <music21.note.Rest rest>\n",
      "    {208.0} <music21.note.Note F#>\n",
      "    {208.75} <music21.note.Rest rest>\n",
      "    {209.0} <music21.note.Note F#>\n",
      "    {209.75} <music21.note.Note F>\n",
      "    {210.0} <music21.note.Note F#>\n",
      "    {210.5} <music21.note.Note G#>\n",
      "    {211.0} <music21.note.Note A>\n",
      "    {211.5} <music21.note.Note B>\n",
      "    {212.0} <music21.note.Note C#>\n",
      "    {212.75} <music21.note.Rest rest>\n",
      "    {213.0} <music21.note.Note C#>\n",
      "    {213.75} <music21.note.Note D>\n",
      "    {214.0} <music21.note.Note C#>\n",
      "    {214.5} <music21.note.Note B>\n",
      "    {215.0} <music21.note.Note A>\n",
      "    {215.5} <music21.note.Note G#>\n",
      "    {216.0} <music21.note.Note A>\n",
      "    {216.75} <music21.note.Rest rest>\n",
      "    {217.0} <music21.note.Note E>\n",
      "    {217.75} <music21.note.Rest rest>\n",
      "    {218.0} <music21.note.Note C#>\n",
      "    {218.5} <music21.note.Note E>\n",
      "    {219.0} <music21.note.Note A>\n",
      "    {219.5} <music21.note.Note B>\n",
      "    {220.0} <music21.note.Note G#>\n",
      "    {220.75} <music21.note.Rest rest>\n",
      "    {221.0} <music21.note.Note F#>\n",
      "    {221.75} <music21.note.Rest rest>\n",
      "    {222.0} <music21.note.Note E>\n",
      "    {222.75} <music21.note.Rest rest>\n",
      "    {223.0} <music21.note.Note D>\n",
      "    {223.75} <music21.note.Rest rest>\n",
      "    {224.0} <music21.note.Note E>\n",
      "    {224.75} <music21.note.Rest rest>\n",
      "    {225.0} <music21.note.Note F>\n",
      "    {225.75} <music21.note.Rest rest>\n",
      "    {226.0} <music21.note.Note F#>\n",
      "    {226.75} <music21.note.Rest rest>\n",
      "    {228.0} <music21.note.Note G>\n",
      "    {228.75} <music21.note.Rest rest>\n",
      "    {229.0} <music21.note.Note F>\n",
      "    {229.75} <music21.note.Rest rest>\n",
      "    {230.0} <music21.note.Note E>\n",
      "    {230.75} <music21.note.Rest rest>\n",
      "    {232.0} <music21.note.Note E>\n",
      "    {233.75} <music21.note.Rest rest>\n",
      "    {234.0} <music21.note.Note A>\n",
      "    {235.75} <music21.note.Rest rest>\n",
      "    {236.0} <music21.note.Note E>\n"
     ]
    }
   ],
   "source": [
    "midi.show('text')"
   ]
  },
  {
   "cell_type": "code",
   "execution_count": 5,
   "metadata": {},
   "outputs": [],
   "source": [
    "# Flat all the elements - notes/chords\n",
    "notes_to_parse = midi.flat.notes"
   ]
  },
  {
   "cell_type": "code",
   "execution_count": 6,
   "metadata": {},
   "outputs": [
    {
     "name": "stdout",
     "output_type": "stream",
     "text": [
      "507\n"
     ]
    }
   ],
   "source": [
    "print(len(notes_to_parse))"
   ]
  },
  {
   "cell_type": "code",
   "execution_count": 53,
   "metadata": {
    "scrolled": false
   },
   "outputs": [
    {
     "name": "stdout",
     "output_type": "stream",
     "text": [
      "<music21.note.Note E> 0.0\n",
      "<music21.note.Note E> 0.0\n",
      "<music21.note.Note E> 1.5\n",
      "<music21.note.Note E> 1.75\n",
      "<music21.note.Note E> 2.0\n",
      "<music21.note.Note E> 2.0\n",
      "<music21.note.Note F> 2.5\n",
      "<music21.note.Note E-> 2.5\n",
      "<music21.note.Note E> 3.0\n",
      "<music21.note.Note D> 3.0\n",
      "<music21.note.Note G> 3.5\n",
      "<music21.note.Note C#> 3.5\n",
      "<music21.note.Note G#> 4.0\n",
      "<music21.note.Note B> 4.0\n",
      "<music21.note.Note E> 5.0\n",
      "<music21.note.Note G#> 5.0\n",
      "<music21.note.Note E> 6.0\n",
      "<music21.note.Note E> 7.0\n",
      "<music21.note.Note G#> 8.0\n",
      "<music21.note.Note E> 8.0\n",
      "<music21.note.Note G#> 9.5\n",
      "<music21.note.Note G#> 9.75\n",
      "<music21.note.Note G#> 10.0\n",
      "<music21.note.Note G#> 10.0\n",
      "<music21.note.Note A> 10.5\n",
      "<music21.note.Note G> 10.5\n",
      "<music21.note.Note B> 11.0\n",
      "<music21.note.Note F#> 11.0\n",
      "<music21.note.Note C#> 11.5\n",
      "<music21.note.Note E> 11.5\n",
      "<music21.note.Note D> 12.0\n",
      "<music21.note.Note D> 12.0\n",
      "<music21.note.Note B> 13.0\n",
      "<music21.note.Note B> 13.0\n",
      "<music21.note.Note E> 14.0\n",
      "<music21.note.Note E> 15.0\n",
      "<music21.note.Note E> 15.0\n",
      "<music21.note.Note G#> 46/3\n",
      "<music21.note.Note B> 47/3\n",
      "<music21.chord.Chord E4 D5> 16.0\n",
      "<music21.note.Note G#> 16.0\n",
      "<music21.chord.Chord F4 D5> 17.0\n",
      "<music21.note.Note A> 17.0\n",
      "<music21.note.Note C#> 17.75\n",
      "<music21.chord.Chord F#4 D5> 18.0\n",
      "<music21.note.Note B> 18.0\n",
      "<music21.chord.Chord F#4 B4> 18.5\n",
      "<music21.note.Note B> 18.5\n",
      "<music21.chord.Chord G4 D5> 20.0\n",
      "<music21.note.Note B> 20.0\n",
      "<music21.chord.Chord F4 D5> 21.0\n",
      "<music21.note.Note A> 21.0\n",
      "<music21.note.Note C#> 21.75\n",
      "<music21.chord.Chord E4 D5> 22.0\n",
      "<music21.note.Note G#> 22.0\n",
      "<music21.chord.Chord E4 B4> 22.5\n",
      "<music21.note.Note G#> 22.5\n",
      "<music21.chord.Chord G#4 B4 E5> 24.0\n",
      "<music21.note.Note E> 24.0\n",
      "<music21.chord.Chord G#4 B4 E5> 25.5\n",
      "<music21.chord.Chord G#4 B4 E5> 25.75\n",
      "<music21.chord.Chord A4 C5 E5> 26.0\n",
      "<music21.note.Note A> 26.0\n",
      "<music21.chord.Chord A4 C5 E5> 27.5\n",
      "<music21.chord.Chord A4 C5 E5> 27.75\n",
      "<music21.chord.Chord G#4 B4 E5> 28.0\n",
      "<music21.note.Note E> 28.0\n",
      "<music21.note.Note E> 31.0\n",
      "<music21.note.Note D> 31.75\n",
      "<music21.note.Note C#> 32.0\n",
      "<music21.note.Note A> 32.0\n",
      "<music21.note.Note C#> 33.0\n",
      "<music21.note.Note E> 33.0\n",
      "<music21.note.Note B> 33.75\n",
      "<music21.note.Note C#> 34.0\n",
      "<music21.note.Note E> 34.0\n",
      "<music21.note.Note D> 34.5\n",
      "<music21.note.Note C#> 35.0\n",
      "<music21.note.Note B> 35.0\n",
      "<music21.note.Note B> 35.5\n",
      "<music21.note.Note A> 36.0\n",
      "<music21.note.Note A> 36.0\n",
      "<music21.note.Note E> 37.0\n",
      "<music21.note.Note A> 38.0\n",
      "<music21.note.Note A> 38.5\n",
      "<music21.note.Note C#> 39.0\n",
      "<music21.note.Note E> 39.0\n",
      "<music21.note.Note E> 39.5\n",
      "<music21.note.Note F#> 40.0\n",
      "<music21.note.Note D> 40.0\n",
      "<music21.note.Note D> 41.0\n",
      "<music21.note.Note A> 41.0\n",
      "<music21.note.Note C#> 41.75\n",
      "<music21.note.Note B> 42.0\n",
      "<music21.note.Note E> 42.0\n",
      "<music21.note.Note F#> 43.0\n",
      "<music21.note.Note B> 43.0\n",
      "<music21.note.Note E> 44.0\n",
      "<music21.note.Note A> 44.0\n",
      "<music21.note.Note E> 45.0\n"
     ]
    }
   ],
   "source": [
    "for element in notes_to_parse[:100]:\n",
    "    print(element , element.offset)   # Offset refers to where the note is located in the piece"
   ]
  },
  {
   "cell_type": "code",
   "execution_count": 10,
   "metadata": {},
   "outputs": [
    {
     "data": {
      "text/plain": [
       "<music21.note.Note E>"
      ]
     },
     "execution_count": 10,
     "metadata": {},
     "output_type": "execute_result"
    }
   ],
   "source": [
    "notes_to_parse[0]"
   ]
  },
  {
   "cell_type": "code",
   "execution_count": 11,
   "metadata": {},
   "outputs": [
    {
     "data": {
      "text/plain": [
       "(<music21.pitch.Pitch E4>, 'E4')"
      ]
     },
     "execution_count": 11,
     "metadata": {},
     "output_type": "execute_result"
    }
   ],
   "source": [
    "# Pitch refers to the frequency of the sound, or how high or low a particular note is \n",
    "# and is represented with the letters [A, B, C, D, E, F, G], with A being the highest and G being the lowest\n",
    "notes_to_parse[0].pitch , str(notes_to_parse[0].pitch)"
   ]
  },
  {
   "cell_type": "code",
   "execution_count": 12,
   "metadata": {},
   "outputs": [
    {
     "data": {
      "text/plain": [
       "<music21.chord.Chord F4 D5>"
      ]
     },
     "execution_count": 12,
     "metadata": {},
     "output_type": "execute_result"
    }
   ],
   "source": [
    "notes_to_parse[50]"
   ]
  },
  {
   "cell_type": "code",
   "execution_count": 13,
   "metadata": {},
   "outputs": [
    {
     "data": {
      "text/plain": [
       "[2, 5]"
      ]
     },
     "execution_count": 13,
     "metadata": {},
     "output_type": "execute_result"
    }
   ],
   "source": [
    "# Return the normal order/normal form of the Chord as a integer representation\n",
    "notes_to_parse[50].normalOrder "
   ]
  },
  {
   "cell_type": "code",
   "execution_count": 14,
   "metadata": {},
   "outputs": [],
   "source": [
    "notes_demo = []\n",
    "\n",
    "for element in notes_to_parse:\n",
    "    \n",
    "    # if the element is a Note , then store it's Pitch\n",
    "    if isinstance(element , note.Note):\n",
    "        notes_demo.append(str(element.pitch))\n",
    "        \n",
    "    # if the element is a Chord , split each of the note of the chord and join them with +\n",
    "    elif isinstance(element , chord.Chord):\n",
    "        notes_demo.append('+'.join(str(n) for n in element.normalOrder))"
   ]
  },
  {
   "cell_type": "code",
   "execution_count": 15,
   "metadata": {},
   "outputs": [
    {
     "data": {
      "text/plain": [
       "507"
      ]
     },
     "execution_count": 15,
     "metadata": {},
     "output_type": "execute_result"
    }
   ],
   "source": [
    "len(notes_demo)"
   ]
  },
  {
   "cell_type": "code",
   "execution_count": 16,
   "metadata": {},
   "outputs": [
    {
     "name": "stdout",
     "output_type": "stream",
     "text": [
      "['B4', 'B2', 'E2', 'E4', 'E2', 'G#4', 'B4', '2+4', 'G#3', '2+5', 'A3', 'C#5', '2+6', 'B3', '6+11', 'B3', '2+7', 'B3']\n"
     ]
    }
   ],
   "source": [
    "print(notes_demo[32:50])"
   ]
  },
  {
   "cell_type": "markdown",
   "metadata": {},
   "source": [
    "### Preprocessing all Files"
   ]
  },
  {
   "cell_type": "code",
   "execution_count": 17,
   "metadata": {},
   "outputs": [
    {
     "name": "stdout",
     "output_type": "stream",
     "text": [
      "parsing midi_songs\\0fithos.mid  length 1171\n",
      "parsing midi_songs\\8.mid  length 396\n",
      "parsing midi_songs\\ahead_on_our_way_piano.mid  length 720\n",
      "parsing midi_songs\\AT.mid  length 1843\n",
      "parsing midi_songs\\balamb.mid  length 760\n",
      "parsing midi_songs\\bcm.mid  length 681\n",
      "parsing midi_songs\\BlueStone_LastDungeon.mid  length 682\n",
      "parsing midi_songs\\braska.mid  length 221\n",
      "parsing midi_songs\\caitsith.mid  length 828\n",
      "parsing midi_songs\\Cids.mid  length 330\n",
      "parsing midi_songs\\cosmo.mid  length 597\n",
      "parsing midi_songs\\costadsol.mid  length 273\n",
      "parsing midi_songs\\dayafter.mid  length 614\n",
      "parsing midi_songs\\decisive.mid  length 760\n",
      "parsing midi_songs\\dontbeafraid.mid  length 620\n",
      "parsing midi_songs\\DOS.mid  length 624\n",
      "parsing midi_songs\\electric_de_chocobo.mid  length 689\n",
      "parsing midi_songs\\Eternal_Harvest.mid  length 1123\n",
      "parsing midi_songs\\EyesOnMePiano.mid  length 1425\n",
      "parsing midi_songs\\ff11_awakening_piano.mid  length 1597\n",
      "parsing midi_songs\\ff1battp.mid  length 966\n",
      "parsing midi_songs\\FF3_Battle_(Piano).mid  length 409\n",
      "parsing midi_songs\\FF3_Third_Phase_Final_(Piano).mid  length 1194\n",
      "parsing midi_songs\\ff4-airship.mid  length 350\n",
      "parsing midi_songs\\Ff4-BattleLust.mid  length 2210\n",
      "parsing midi_songs\\ff4-fight1.mid  length 824\n",
      "parsing midi_songs\\ff4-town.mid  length 251\n",
      "parsing midi_songs\\FF4.mid  length 828\n",
      "parsing midi_songs\\ff4pclov.mid  length 513\n",
      "parsing midi_songs\\ff4_piano_collections-main_theme.mid  length 679\n",
      "parsing midi_songs\\FF6epitaph_piano.mid  length 205\n",
      "parsing midi_songs\\ff6shap.mid  length 164\n",
      "parsing midi_songs\\Ff7-Cinco.mid  length 317\n",
      "parsing midi_songs\\Ff7-Jenova_Absolute.mid  length 751\n",
      "parsing midi_songs\\ff7-mainmidi.mid  length 184\n",
      "parsing midi_songs\\Ff7-One_Winged.mid  length 1207\n",
      "parsing midi_songs\\ff7themep.mid  length 634\n",
      "parsing midi_songs\\ff8-lfp.mid  length 1205\n",
      "parsing midi_songs\\FF8_Shuffle_or_boogie_pc.mid  length 821\n",
      "parsing midi_songs\\FFIII_Edgar_And_Sabin_Piano.mid  length 629\n",
      "parsing midi_songs\\FFIXQuMarshP.mid  length 377\n",
      "parsing midi_songs\\FFIX_Piano.mid  length 254\n",
      "parsing midi_songs\\FFVII_BATTLE.mid  length 440\n",
      "parsing midi_songs\\FFX_-_Ending_Theme_(Piano_Version)_-_by_Angel_FF.mid  length 714\n",
      "parsing midi_songs\\Fiend_Battle_(Piano).mid  length 713\n",
      "parsing midi_songs\\Fierce_Battle_(Piano).mid  length 486\n",
      "parsing midi_songs\\figaro.mid  length 356\n",
      "parsing midi_songs\\Finalfantasy5gilgameshp.mid  length 662\n",
      "parsing midi_songs\\Finalfantasy6fanfarecomplete.mid  length 558\n",
      "parsing midi_songs\\Final_Fantasy_7_-_Judgement_Day_Piano.mid  length 252\n",
      "parsing midi_songs\\Final_Fantasy_Matouyas_Cave_Piano.mid  length 487\n",
      "parsing midi_songs\\fortresscondor.mid  length 385\n",
      "parsing midi_songs\\Fyw_piano.mid  length 1857\n",
      "parsing midi_songs\\gerudo.mid  length 1623\n",
      "parsing midi_songs\\goldsaucer.mid  length 634\n",
      "parsing midi_songs\\Gold_Silver_Rival_Battle.mid  length 1062\n",
      "parsing midi_songs\\great_war.mid  length 556\n",
      "parsing midi_songs\\HighwindTakestotheSkies.mid  length 1352\n",
      "parsing midi_songs\\In_Zanarkand.mid  length 573\n",
      "parsing midi_songs\\JENOVA.mid  length 678\n",
      "parsing midi_songs\\Kingdom_Hearts_Dearly_Beloved.mid  length 224\n",
      "parsing midi_songs\\Kingdom_Hearts_Traverse_Town.mid  length 374\n",
      "parsing midi_songs\\Life_Stream.mid  length 197\n",
      "parsing midi_songs\\lurk_in_dark.mid  length 89\n",
      "parsing midi_songs\\mining.mid  length 237\n",
      "parsing midi_songs\\Oppressed.mid  length 143\n",
      "parsing midi_songs\\OTD5YA.mid  length 292\n",
      "parsing midi_songs\\path_of_repentance.mid  length 477\n",
      "parsing midi_songs\\pkelite4.mid  length 225\n",
      "parsing midi_songs\\Rachel_Piano_tempofix.mid  length 267\n",
      "parsing midi_songs\\redwings.mid  length 1777\n",
      "parsing midi_songs\\relmstheme-piano.mid  length 293\n",
      "parsing midi_songs\\roseofmay-piano.mid  length 516\n",
      "parsing midi_songs\\rufus.mid  length 507\n",
      "parsing midi_songs\\Rydia_pc.mid  length 553\n",
      "parsing midi_songs\\sandy.mid  length 320\n",
      "parsing midi_songs\\sera_.mid  length 1494\n",
      "parsing midi_songs\\sobf.mid  length 556\n",
      "parsing midi_songs\\Still_Alive-1.mid  length 517\n",
      "parsing midi_songs\\Suteki_Da_Ne_(Piano_Version).mid  length 960\n",
      "parsing midi_songs\\thenightmarebegins.mid  length 768\n",
      "parsing midi_songs\\thoughts.mid  length 558\n",
      "parsing midi_songs\\tifap.mid  length 392\n",
      "parsing midi_songs\\tpirtsd-piano.mid  length 350\n",
      "parsing midi_songs\\traitor.mid  length 259\n",
      "parsing midi_songs\\ultimafro.mid  length 894\n",
      "parsing midi_songs\\ultros.mid  length 974\n",
      "parsing midi_songs\\VincentPiano.mid  length 377\n",
      "parsing midi_songs\\ViviinAlexandria.mid  length 892\n",
      "parsing midi_songs\\waltz_de_choco.mid  length 137\n",
      "parsing midi_songs\\Zelda_Overworld.mid  length 592\n",
      "parsing midi_songs\\z_aeristhemepiano.mid  length 341\n"
     ]
    }
   ],
   "source": [
    "# Get all the notes and chords from the midi files in the ./midi_songs directory \n",
    "notes = []\n",
    "p = Path('midi_songs')\n",
    "\n",
    "for file in p.glob(\"*.mid\"):\n",
    "    midi = converter.parse(file)\n",
    "    print(f\"parsing {file}\" , end = \"  \")\n",
    "    \n",
    "    elements_to_parse = midi.flat.notes\n",
    "    print(f\"length {len(elements_to_parse)}\")\n",
    "    \n",
    "    for element in elements_to_parse:\n",
    "        \n",
    "        # if the element is a Note, then store it's Pitch\n",
    "        if isinstance(element , note.Note):\n",
    "            notes.append(str(element.pitch))\n",
    "            \n",
    "        # if the element is a Chord , then split each of the note and join with +\n",
    "        elif isinstance(element , chord.Chord):\n",
    "            notes.append(\"+\".join(str(n) for n in element.normalOrder))     "
   ]
  },
  {
   "cell_type": "code",
   "execution_count": 18,
   "metadata": {
    "scrolled": true
   },
   "outputs": [
    {
     "data": {
      "text/plain": [
       "60866"
      ]
     },
     "execution_count": 18,
     "metadata": {},
     "output_type": "execute_result"
    }
   ],
   "source": [
    "len(notes)"
   ]
  },
  {
   "cell_type": "code",
   "execution_count": 19,
   "metadata": {},
   "outputs": [],
   "source": [
    "with open(\"notes\" , \"wb\") as file:\n",
    "    pickle.dump(notes , file)"
   ]
  },
  {
   "cell_type": "code",
   "execution_count": 20,
   "metadata": {},
   "outputs": [],
   "source": [
    "with open(\"notes\" , \"rb\") as file:\n",
    "    notes = pickle.load(file)"
   ]
  },
  {
   "cell_type": "code",
   "execution_count": 21,
   "metadata": {},
   "outputs": [
    {
     "name": "stdout",
     "output_type": "stream",
     "text": [
      "Total notes:  60866\n",
      "Unique notes:  359\n"
     ]
    }
   ],
   "source": [
    "print(\"Total notes: \" , len(notes))\n",
    "print(\"Unique notes: \" , len(set(notes)))"
   ]
  },
  {
   "cell_type": "code",
   "execution_count": 22,
   "metadata": {},
   "outputs": [],
   "source": [
    "n_vocab = len(set(notes))"
   ]
  },
  {
   "cell_type": "markdown",
   "metadata": {},
   "source": [
    "### Prepare Sequential Data for LSTM"
   ]
  },
  {
   "cell_type": "code",
   "execution_count": 23,
   "metadata": {},
   "outputs": [],
   "source": [
    "# get all pitch names (unique classes)\n",
    "pitchnames = sorted(set(notes))"
   ]
  },
  {
   "cell_type": "code",
   "execution_count": 62,
   "metadata": {},
   "outputs": [],
   "source": [
    "# create a dictionary to map pitches to integers\n",
    "note_to_int = dict((element , idx) for idx , element in enumerate(pitchnames))\n",
    "\n",
    "# create a reverse mapping\n",
    "int_to_note = {idx:element for element , idx in note_to_int.items()}"
   ]
  },
  {
   "cell_type": "code",
   "execution_count": 25,
   "metadata": {},
   "outputs": [
    {
     "data": {
      "text/plain": [
       "359"
      ]
     },
     "execution_count": 25,
     "metadata": {},
     "output_type": "execute_result"
    }
   ],
   "source": [
    "len(note_to_int)"
   ]
  },
  {
   "cell_type": "code",
   "execution_count": 26,
   "metadata": {},
   "outputs": [],
   "source": [
    "# How many elements LSTM input should consider\n",
    "sequence_len = 100"
   ]
  },
  {
   "cell_type": "code",
   "execution_count": 27,
   "metadata": {},
   "outputs": [],
   "source": [
    "network_input = []     # input sequence data\n",
    "network_output = []    # output data\n",
    "\n",
    "for i in range(len(notes) - sequence_len):\n",
    "    seq_in = notes[i : i+sequence_len]         # contains 100 values\n",
    "    seq_out = notes[i+sequence_len]\n",
    "    \n",
    "    network_input.append([note_to_int[n] for n in seq_in])\n",
    "    network_output.append(note_to_int[seq_out])"
   ]
  },
  {
   "cell_type": "code",
   "execution_count": 28,
   "metadata": {},
   "outputs": [
    {
     "data": {
      "text/plain": [
       "(60766, 60766)"
      ]
     },
     "execution_count": 28,
     "metadata": {},
     "output_type": "execute_result"
    }
   ],
   "source": [
    "len(network_input) , len(network_output)"
   ]
  },
  {
   "cell_type": "code",
   "execution_count": 29,
   "metadata": {},
   "outputs": [
    {
     "data": {
      "text/plain": [
       "(60766, 100)"
      ]
     },
     "execution_count": 29,
     "metadata": {},
     "output_type": "execute_result"
    }
   ],
   "source": [
    "np.asarray(network_input).shape"
   ]
  },
  {
   "cell_type": "code",
   "execution_count": 30,
   "metadata": {},
   "outputs": [
    {
     "name": "stdout",
     "output_type": "stream",
     "text": [
      "(60766, 100, 1)\n"
     ]
    }
   ],
   "source": [
    "# reshape input data into a shape compatible with LSTM layers\n",
    "normalised_network_input = np.reshape(network_input , (*(np.asarray(network_input).shape) , 1))  # input_samples, sequence_len, 1\n",
    "print(normalised_network_input.shape)"
   ]
  },
  {
   "cell_type": "code",
   "execution_count": 31,
   "metadata": {},
   "outputs": [],
   "source": [
    "normalised_network_input = normalised_network_input/float(n_vocab)"
   ]
  },
  {
   "cell_type": "code",
   "execution_count": 33,
   "metadata": {},
   "outputs": [],
   "source": [
    "from keras.utils import to_categorical"
   ]
  },
  {
   "cell_type": "code",
   "execution_count": 34,
   "metadata": {},
   "outputs": [],
   "source": [
    "# Network output are the classes, so encode into one hot vector\n",
    "network_output = to_categorical(network_output)"
   ]
  },
  {
   "cell_type": "code",
   "execution_count": 37,
   "metadata": {},
   "outputs": [
    {
     "name": "stdout",
     "output_type": "stream",
     "text": [
      "(60766, 100, 1)\n",
      "(60766, 359)\n"
     ]
    }
   ],
   "source": [
    "print(normalised_network_input.shape)\n",
    "print(network_output.shape)"
   ]
  },
  {
   "cell_type": "markdown",
   "metadata": {},
   "source": [
    "### Define Model Architecture"
   ]
  },
  {
   "cell_type": "code",
   "execution_count": 38,
   "metadata": {},
   "outputs": [],
   "source": [
    "from keras.models import Sequential, Model, load_model\n",
    "from keras.layers import *\n",
    "from keras.callbacks import ModelCheckpoint, EarlyStopping"
   ]
  },
  {
   "cell_type": "code",
   "execution_count": 41,
   "metadata": {},
   "outputs": [],
   "source": [
    "model = Sequential()\n",
    "model.add(LSTM(units = 512 , input_shape = (normalised_network_input.shape[1], normalised_network_input.shape[2])\n",
    "               , return_sequences = True))\n",
    "model.add(Dropout(0.3))\n",
    "\n",
    "model.add(LSTM(units = 512 , return_sequences = True))\n",
    "model.add(Dropout(0.3))\n",
    "\n",
    "model.add(LSTM(units = 512))\n",
    "model.add(Dense(256))\n",
    "model.add(Dropout(0.3))\n",
    "\n",
    "model.add(Dense(n_vocab , activation = 'softmax'))"
   ]
  },
  {
   "cell_type": "code",
   "execution_count": 42,
   "metadata": {},
   "outputs": [],
   "source": [
    "model.compile(loss = \"categorical_crossentropy\", optimizer = \"adam\")"
   ]
  },
  {
   "cell_type": "code",
   "execution_count": 43,
   "metadata": {},
   "outputs": [
    {
     "name": "stdout",
     "output_type": "stream",
     "text": [
      "Model: \"sequential_1\"\n",
      "_________________________________________________________________\n",
      "Layer (type)                 Output Shape              Param #   \n",
      "=================================================================\n",
      "lstm (LSTM)                  (None, 100, 512)          1052672   \n",
      "_________________________________________________________________\n",
      "dropout (Dropout)            (None, 100, 512)          0         \n",
      "_________________________________________________________________\n",
      "lstm_1 (LSTM)                (None, 100, 512)          2099200   \n",
      "_________________________________________________________________\n",
      "dropout_1 (Dropout)          (None, 100, 512)          0         \n",
      "_________________________________________________________________\n",
      "lstm_2 (LSTM)                (None, 512)               2099200   \n",
      "_________________________________________________________________\n",
      "dense (Dense)                (None, 256)               131328    \n",
      "_________________________________________________________________\n",
      "dropout_2 (Dropout)          (None, 256)               0         \n",
      "_________________________________________________________________\n",
      "dense_1 (Dense)              (None, 359)               92263     \n",
      "=================================================================\n",
      "Total params: 5,474,663\n",
      "Trainable params: 5,474,663\n",
      "Non-trainable params: 0\n",
      "_________________________________________________________________\n"
     ]
    }
   ],
   "source": [
    "model.summary()"
   ]
  },
  {
   "cell_type": "code",
   "execution_count": null,
   "metadata": {},
   "outputs": [],
   "source": [
    "# Trained using GPU in google colab\n",
    "checkpoint = ModelCheckpoint(\"weights.h5\", monitor = 'loss', save_best_only=True, mode = 'min')\n",
    "hist = model.fit(normalised_network_input, network_output, epochs = 100, batch_size = 64, callbacks = [checkpoint])"
   ]
  },
  {
   "cell_type": "code",
   "execution_count": 57,
   "metadata": {},
   "outputs": [],
   "source": [
    "model = load_model(\"weights.hdf5\")"
   ]
  },
  {
   "cell_type": "code",
   "execution_count": 58,
   "metadata": {},
   "outputs": [],
   "source": [
    "model.load_weights('weights.hdf5')"
   ]
  },
  {
   "cell_type": "markdown",
   "metadata": {},
   "source": [
    "### Predictions"
   ]
  },
  {
   "cell_type": "code",
   "execution_count": 64,
   "metadata": {},
   "outputs": [],
   "source": [
    "\"\"\" Generate notes from the neural network based on a sequence of notes\"\"\"\n",
    "\n",
    "# pick a random sequence from the input as a starting point for the prediction\n",
    "start = np.random.randint(0 , len(network_input)-1)\n",
    "# inital sequence/pattern\n",
    "pattern = network_input[start]    # 100\n",
    "\n",
    "predicted_outputs = []\n",
    "\n",
    "# generate 500 notes\n",
    "for note_index in range(500):\n",
    "    inp_seq = np.reshape(pattern , (1, len(pattern), 1))   # convert to desired input shape for model\n",
    "    inp_seq = inp_seq/float(n_vocab)  # normalize\n",
    "    \n",
    "    prediction = model.predict(inp_seq)\n",
    "    pred_idx = np.argmax(prediction)\n",
    "    pred_note = int_to_note[pred_idx]\n",
    "    \n",
    "    predicted_outputs.append(pred_note)\n",
    "    \n",
    "    # remove the first note of the sequence and insert the output of the previous iteration at the end of the sequence\n",
    "    pattern.append(pred_idx)\n",
    "    pattern = pattern[1:]   "
   ]
  },
  {
   "cell_type": "code",
   "execution_count": 65,
   "metadata": {
    "scrolled": true
   },
   "outputs": [
    {
     "name": "stdout",
     "output_type": "stream",
     "text": [
      "500\n",
      "['C#5', '3+5+7', 'F#5', 'G#5', 'F#5', 'F5', '5+7+0', 'B-2', 'E-3', 'C3', 'F2', 'A4', '3+5+7', 'D5', 'E5', 'D5', 'C#5', '5+7+0', 'F2', '3+5+7', '5+7+0', 'B-2', 'E-3', 'C3', 'F2', '3+5+7', '5+7+0', 'C#4', 'F2', 'E-4', 'F4', '1+4+6', 'G4', 'G#4', 'B-4', 'C5', 'C#5', 'C5', '3+5+7', 'B-2', 'E-3', 'C3', 'C#5', 'F2', 'E-5', 'F5', '1+4+6', 'G5', 'G#5', 'B-5']\n"
     ]
    }
   ],
   "source": [
    "print(len(predicted_outputs))\n",
    "print(predicted_outputs[:50])"
   ]
  },
  {
   "cell_type": "markdown",
   "metadata": {},
   "source": [
    "### Create Music Files"
   ]
  },
  {
   "cell_type": "code",
   "execution_count": 70,
   "metadata": {},
   "outputs": [],
   "source": [
    "# convert the output predictions to notes \n",
    "offset = 0 \n",
    "output_notes = []\n",
    "\n",
    "for pattern in predicted_outputs:\n",
    "    \n",
    "    # if the pattern is a chord, first split the string up into an array of notes\n",
    "    if ('+' in pattern) or pattern.isdigit():\n",
    "        notes_in_chord = pattern.split('+')\n",
    "        \n",
    "        # Then we loop through the string representation of each note and create a Note object for each of them\n",
    "        notes_tmp = []\n",
    "        for current_note in notes_in_chord:\n",
    "            new_note = note.Note(int(current_note))         \n",
    "            new_note.storedInstrument = instrument.Piano()\n",
    "            notes_tmp.append(new_note)\n",
    "            \n",
    "        new_chord = chord.Chord(notes_tmp)   # create Chords from list of notes(strings of pitch names)\n",
    "        new_chord.offset = offset\n",
    "        output_notes.append(new_chord)\n",
    "    \n",
    "    # if pattern is a Note, create a Note object using string representation of the pitch contained in the predicted pattern\n",
    "    else:\n",
    "        new_note = note.Note(pattern)\n",
    "        new_note.offset = offset\n",
    "        new_note.storedInstrument = instrument.Piano()\n",
    "        output_notes.append(new_note) \n",
    "        \n",
    "    offset += 0.5"
   ]
  },
  {
   "cell_type": "code",
   "execution_count": 71,
   "metadata": {},
   "outputs": [
    {
     "data": {
      "text/plain": [
       "'test_output_stream.mid'"
      ]
     },
     "execution_count": 71,
     "metadata": {},
     "output_type": "execute_result"
    }
   ],
   "source": [
    "# create a midi stream object from the generated notes \n",
    "\n",
    "midi_stream = stream.Stream(output_notes)\n",
    "midi_stream.write(fmt = 'midi', fp = 'test_output_stream.mid')"
   ]
  },
  {
   "cell_type": "code",
   "execution_count": 72,
   "metadata": {},
   "outputs": [
    {
     "data": {
      "text/html": [
       "\n",
       "                <div id='midiPlayerDiv198416'></div>\n",
       "                <link rel=\"stylesheet\" href=\"//cuthbertLab.github.io/music21j/css/m21.css\"\n",
       "                    type=\"text/css\" />\n",
       "                <script>\n",
       "                require.config({\n",
       "                    paths: {'music21': '//cuthbertLab.github.io/music21j/src/music21'}\n",
       "                });\n",
       "                require(['music21'], function() {\n",
       "                               mp = new music21.miditools.MidiPlayer();\n",
       "                               mp.addPlayer('#midiPlayerDiv198416');\n",
       "                               mp.base64Load('data:audio/midi;base64,TVRoZAAAAAYAAQACBABNVHJrAAAAFAD/UQMHoSAA/1gEBAIYCIgA/y8ATVRyawAAErsA/wMAAOAAQIgAkElahACQP1oAkEFaAJBDWoQAgEkAAJBOWoQAgD8AAIBBAACAQwAAkFBahACATgAAkE5ahACAUAAAkE1ahACATgAAkEFaAJBDWgCQPFqEAIBNAACQLlqEAIBBAACAQwAAgDwAAJAzWoQAgC4AAJAwWoQAgDMAAJApWoQAgDAAAJBFWoQAgCkAAJA/WgCQQVoAkENahACARQAAkEpahACAPwAAgEEAAIBDAACQTFqEAIBKAACQSlqEAIBMAACQSVqEAIBKAACQQVoAkENaAJA8WoQAgEkAAJApWoQAgEEAAIBDAACAPAAAkD9aAJBBWgCQQ1qEAIApAACQQVoAkENaAJA8WoQAgD8AAIBBAACAQwAAkC5ahACAQQAAgEMAAIA8AACQM1qEAIAuAACQMFqEAIAzAACQKVqEAIAwAACQP1oAkEFaAJBDWoQAgCkAAJBBWgCQQ1oAkDxahACAPwAAgEEAAIBDAACQPVqEAIBBAACAQwAAgDwAAJApWoQAgD0AAJA/WoQAgCkAAJBBWoQAgD8AAJA9WgCQQFoAkEJahACAQQAAkENahACAPQAAgEAAAIBCAACQRFqEAIBDAACQRlqEAIBEAACQSFqEAIBGAACQSVqEAIBIAACQSFqEAIBJAACQP1oAkEFaAJBDWoQAgEgAAJAuWoQAgD8AAIBBAACAQwAAkDNahACALgAAkDBahACAMwAAkElahACAMAAAkClahACASQAAkEtahACAKQAAkE1ahACASwAAkD1aAJBAWgCQQlqEAIBNAACQT1qEAIA9AACAQAAAgEIAAJBQWoQAgE8AAJBSWoQAgFAAAJBUWoQAgFIAAJBVWoQAgFQAAJBUWoQAgFUAAJA/WgCQQVoAkENahACAVAAAkClahACAPwAAgEEAAIBDAACQP1oAkEFaAJBDWoQAgCkAAJBEWoQAgD8AAIBBAACAQwAAkEhahACARAAAkElahACASAAAkEtahACASQAAkE1ahACASwAAkElahACATQAAkEtahACASQAAkE1ahACASwAAkE9ahACATQAAkEtahACATwAAkE1ahACASwAAkE9ahACATQAAkFBahACATwAAkE9ahACAUAAAkFBahACATwAAkFJahACAUAAAkFRahACAUgAAkFBahACAVAAAkFdahACAUAAAkFVahACAVwAAkFRahACAVQAAkFBahACAVAAAkFJahACAUAAAkFVahACAUgAAkFRahACAVQAAkE9ahACAVAAAkFBahACATwAAkFRahACAUAAAkFJahACAVAAAkE1ahACAUgAAkE9ahACATQAAkFJahACATwAAkFBahACAUgAAkD9ahACAUAAAkElahACAPwAAkEFahACASQAAkEFahACAQQAAkEhahACAQQAAkERahACASAAAkEFahACARAAAkEtahACAQQAAkEJahACASwAAkERahACAQgAAkElahACARAAAkEZahACASQAAkEJahACARgAAkE1ahACAQgAAkERahACATQAAkEZahACARAAAkEtahACARgAAkEhahACASwAAkERahACASAAAkE5ahACARAAAkEZahACATgAAkEhahACARgAAkD1aAJBBWgCQRVqEAIBIAACQQloAkERahACAPQAAgEEAAIBFAACQUFqEAIBCAACARAAAkE1ahACAUAAAkEtahACATQAAkElahACASwAAkEhahACASQAAkE5ahACASAAAkElahACATgAAkEtahACASQAAkE1ahACASwAAkElahACATQAAkERahACASQAAkEtahACARAAAkEhahACASwAAkEZahACASAAAkERahACARgAAkEZahACARAAAkERahACARgAAkERahACARAAAkElahACARAAAkEBahACASQAAkEdahACAQAAAkFBahACARwAAkE5ahACAUAAAkERahACATgAAkEZahACARAAAkEtahACARgAAkD5ahACASwAAkEJahACAPgAAkFBahACAQgAAkEtahACAUAAAkEhahACASwAAkEZahACASAAAkEZahACARgAAkDJahACARgAAkDRahACAMgAAkDRahACANAAAkDJahACANAAAkDJahACAMgAAkEBahACAMgAAkDVahACAQAAAkEVahACANQAAkEVahACARQAAkC1ahACARQAAkClahACALQAAkE1ahACAKQAAkDNahACATQAAkEVahACAMwAAkE1ahACARQAAkENahACATQAAkEhahACAQwAAkEJahACASAAAkEdahACAQgAAkEhahACARwAAkENahACASAAAkDJahACAQwAAkCpahACAMgAAkE1ahACAKgAAkEpahACATQAAkEZahACASgAAkExahACARgAAkEhahACATAAAkENahACASAAAkCtahACAQwAAkDJahACAKwAAkEJahACAMgAAkEZahACAQgAAkERahACARgAAkDBahACARAAAkEVahACAMAAAkC1ahACARQAAkENahACALQAAkDJahACAQwAAkEdahACAMgAAkENahACARwAAkC5ahACAQwAAkEVahACALgAAkEdahACARQAAkEdahACARwAAkC1ahACARwAAkDJahACALQAAkEhahACAMgAAkC9ahACASAAAkC9ahACALwAAkC9ahACALwAAkC9ahACALwAAkDBahACALwAAkDBahACAMAAAkDBahACAMAAAkC9ahACAMAAAkExahACALwAAkDBahACATAAAkDBahACAMAAAkDBahACAMAAAkE1ahACAMAAAkDJahACATQAAkCtahACAMgAAkEpahACAKwAAkFFahACASgAAkC9ahACAUQAAkC1ahACALwAAkCtahACALQAAkEdahACAKwAAkC1ahACARwAAkDBahACALQAAkERahACAMAAAkDJahACARAAAkChahACAMgAAkEdahACAKAAAkE9ahACARwAAkC5ahACATwAAkENahACALgAAkE1ahACAQwAAkCtahACATQAAkC9ahACAKwAAkDFahACALwAAkC9ahACAMQAAkDBahACALwAAkFFahACAMAAAkDBahACAUQAAkDBahACAMAAAkC9ahACAMAAAkC9ahACALwAAkC9ahACALwAAkExahACALwAAkDNahACATAAAkC9ahACAMwAAkEhahACALwAAkDRahACASAAAkEtahACANAAAkDNahACASwAAkEVahACAMwAAkEVahACARQAAkD5ahACARQAAkC5ahACAPgAAkC1ahACALgAAkD5ahACALQAAkCtahACAPgAAkEhahACAKwAAkC9ahACASAAAkC9ahACALwAAkEdahACALwAAkENahACARwAAkDJahACAQwAAkEBahACAMgAAkCtahACAQAAAkEJahACAKwAAkEVahACAQgAAkCtahACARQAAkEhahACAKwAAkEVahACASAAAkCtahACARQAAkEVahACAKwAAkCpahACARQAAkCpahACAKgAAkCtahACAKgAAkCtahACAKwAAkCtahACAKwAAkEVahACAKwAAkEpahACARQAAkEVahACASgAAkCpahACARQAAkEVahACAKgAAkC1ahACARQAAkEZahACALQAAkCtahACARgAAkEVahACAKwAAkE5ahACARQAAkEdahACATgAAkE5ahACARwAAkElahACATgAAkEVahACASQAAkEZahACARQAAkEhahACARgAAkC1ahACASAAAkEVahACALQAAkEVahACARQAAkC9ahACARQAAkDlahACALwAAkExahACAOQAAkC1ahACATAAAkC9ahACALQAAkC1ahACALwAAkEVahACALQAAkC1ahACARQAAkEhahACALQAAkC1ahACASAAAkEhahACALQAAkEpahACASAAAkEVahACASgAAkC1ahACARQAAkEVahACALQAAkD5ahACARQAAkEFahACAPgAAkC1ahACAQQAAkEBahACALQAAkEBahACAQAAAkFlahACAQAAAkC1ahACAWQAAkEVahACALQAAkEdahACARQAAkEVahACARwAAkExahACARQAAkEhahACATAAAkExahACASAAAkCtahACATAAAkEVahACAKwAAkEJahACARQAAkENahACAQgAAkEJahACAQwAAkEJahACAQgAAkENahACAQgAAkE9ahACAQwAAkFFahACATwAAkEdahACAUQAAkC9ahACARwAAkC1ahACALwAAkEhahACALQAAkC1ahACASAAAkDBahACALQAAkDdahACAMAAAkC1ahACANwAAkFZahACALQAAkDBahACAVgAAkC1ahACAMAAAkCtahACALQAAkEFahACAKwAAkCtahACAQQAAkCtahACAKwAAkCtahACAKwAAkCtahACAKwAAkDJahACAKwAAkEBahACAMgAAkDVahACAQAAAkCtahACANQAAkCtahACAKwAAkCtahACAKwAAkDVahACAKwAAkE9ahACANQAAkCtahACATwAAkDVahACAKwAAkDVahACANQAAkCtahACANQAAkEpahACAKwAAkCtahACASgAAkDBahACAKwAAkE9ahACAMAAAkExahACATwAAkFZahACATAAAkEZahACAVgAAkCtahACARgAAkDBahACAKwAAkDJahACAMAAAkCtahACAMgAAkE1ahACAKwAAkEpahACATQAAkCtahACASgAAkCtahACAKwAAkCdahACAKwAAkCtahACAJwAAkDBahACAKwAAkDVahACAMAAAkDJahACANQAAkDBahACAMgAAkExahACAMAAAkCtahACATAAAkEpahACAKwAAkEFahACASgAAkCtahACAQQAAkEVahACAKwAAkCtahACARQAAkEVahACAKwAAkChahACARQAAkENahACAKAAAkFVahACAQwAAkCtahACAVQAAkDJahACAKwAAkENahACAMgAAkEBahACAQwAAkCpahACAQAAAkDlahACAKgAAkCtahACAOQAAkDBahACAKwAAkElahACAMAAAkDlahACASQAAkEFahACAOQAAkDBahACAQQAAkCtahACAMAAAkDFahACAKwAAkEVahACAMQAAkDpahACARQAAkCZahACAOgAAkE9ahACAJgAAkC1ahACATwAAkDBahACALQAAkEhahACAMAAAkEZahACASAAAkEpahACARgAAkCtahACASgAAkDBahACAKwAAkEFahACAMAAAkDJahACAQQAAkENahACAMgAAkDJahACAQwAAkEVahACAMgAAkDVahACARQAAkENahACANQAAkEVahACAQwAAkEpahACARQAAkENahACASgAAkDJahACAQwAAkCtahACAMgAAkEVahACAKwAAkE9ahACARQAAkDpahACATwAAkENahACAOgAAkEZahACAQwAAkCtahACARgAAkDpahACAKwAAkEFahACAOgAAkD9ahACAQQAAkEVahACAPwAAkExahACARQAAkD5ahACATAAAkENahACAPgAAkEpahACAQwAAkEVahACASgAAkEhahACARQAAkD5ahACASAAAkE9ahACAPgAAkEFahACATwAAkE1ahACAQQAAkDlahACATQAAkD5ahACAOQAAkD5ahACAPgAAkEFahACAPgAAkDVahACAQQAAkExahACANQAAkDRahACATAAAkEBahACANAAAkD5ahACAQAAAkDdahACAPgAAkExahACANwAAkDJahACATAAAkDRahACAMgAAkDRahACANAAAkENahACANAAAkExahACAQwAAkExahACATAAAkExahACATAAAkEpahACATAAAkEpahACASgAAkEpahACASgAAkDRahACASgAAkExahACANAAAkExahACATAAAkDRahACATAAAkExahACANAAAkDRahACATAAAkDRahACANAAAkDRahACANAAAkDRahACANAAAkDdahACANAAAkDRahACANwAAkE5ahACANAAAkFFahACATgAAkDJahACAUQAAkEpahACAMgAAkEhahACASgAAkExahACASAAAkDJahACATAAAkDRahACAMgAAkExahACANAAAkEdahACATAAAkDRahACARwAAkExahACANAAAkDRahACATAAAkDRahACANAAAkEpahACANAAAkC9ahACASgAAkDJahACALwAAkEVaAJA8WoQAgDIAAJAtWoQAgEUAAIA8AACQQ1oAkEdahACALQAAkEVaAJA8WoQAgEMAAIBHAACQR1oAkD5aAJBAWoQAgEUAAIA8AACQPFoAkEBahACARwAAgD4AAIBAAACQMFqEAIA8AACAQACEAIAwAIgA/y8A');\n",
       "                        });\n",
       "                </script>"
      ],
      "text/plain": [
       "<IPython.core.display.HTML object>"
      ]
     },
     "metadata": {},
     "output_type": "display_data"
    }
   ],
   "source": [
    "midi_stream.show('midi')"
   ]
  },
  {
   "cell_type": "code",
   "execution_count": 75,
   "metadata": {},
   "outputs": [
    {
     "data": {
      "text/plain": [
       "[<music21.chord.Chord F G C>,\n",
       " <music21.note.Note B->,\n",
       " <music21.note.Note E->,\n",
       " <music21.note.Note C>,\n",
       " <music21.note.Note F>,\n",
       " <music21.chord.Chord E- F G>,\n",
       " <music21.chord.Chord F G C>,\n",
       " <music21.note.Note C#>,\n",
       " <music21.note.Note F>,\n",
       " <music21.note.Note E->,\n",
       " <music21.note.Note F>,\n",
       " <music21.chord.Chord C# E F#>,\n",
       " <music21.note.Note G>,\n",
       " <music21.note.Note G#>,\n",
       " <music21.note.Note B->,\n",
       " <music21.note.Note C>,\n",
       " <music21.note.Note C#>,\n",
       " <music21.note.Note C>,\n",
       " <music21.chord.Chord E- F G>,\n",
       " <music21.note.Note B->,\n",
       " <music21.note.Note E->,\n",
       " <music21.note.Note C>,\n",
       " <music21.note.Note C#>,\n",
       " <music21.note.Note F>,\n",
       " <music21.note.Note E->,\n",
       " <music21.note.Note F>,\n",
       " <music21.chord.Chord C# E F#>,\n",
       " <music21.note.Note G>,\n",
       " <music21.note.Note G#>,\n",
       " <music21.note.Note B->,\n",
       " <music21.note.Note C>,\n",
       " <music21.note.Note C#>,\n",
       " <music21.note.Note C>,\n",
       " <music21.chord.Chord E- F G>,\n",
       " <music21.note.Note F>,\n",
       " <music21.chord.Chord E- F G>,\n",
       " <music21.note.Note G#>,\n",
       " <music21.note.Note C>,\n",
       " <music21.note.Note C#>,\n",
       " <music21.note.Note E->]"
      ]
     },
     "execution_count": 75,
     "metadata": {},
     "output_type": "execute_result"
    }
   ],
   "source": [
    "output_notes[20:60]"
   ]
  },
  {
   "cell_type": "code",
   "execution_count": null,
   "metadata": {},
   "outputs": [],
   "source": []
  }
 ],
 "metadata": {
  "kernelspec": {
   "display_name": "Python 3",
   "language": "python",
   "name": "python3"
  },
  "language_info": {
   "codemirror_mode": {
    "name": "ipython",
    "version": 3
   },
   "file_extension": ".py",
   "mimetype": "text/x-python",
   "name": "python",
   "nbconvert_exporter": "python",
   "pygments_lexer": "ipython3",
   "version": "3.7.6"
  }
 },
 "nbformat": 4,
 "nbformat_minor": 2
}
